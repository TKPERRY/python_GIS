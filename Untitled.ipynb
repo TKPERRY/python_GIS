{
 "cells": [
  {
   "cell_type": "code",
   "execution_count": 13,
   "id": "2b7cc229-fc65-4d17-8531-df965fd7f7ba",
   "metadata": {},
   "outputs": [
    {
     "name": "stdout",
     "output_type": "stream",
     "text": [
      "Channels:\n",
      " - conda-forge\n",
      " - defaults\n",
      "Platform: win-64\n",
      "Collecting package metadata (repodata.json): ...working... done\n",
      "Solving environment: ...working... done\n",
      "\n",
      "## Package Plan ##\n",
      "\n",
      "  environment location: C:\\ProgramData\\anaconda3\n",
      "\n",
      "  added / updated specs:\n",
      "    - geopandas\n",
      "\n",
      "\n",
      "The following NEW packages will be INSTALLED:\n",
      "\n",
      "  branca             conda-forge/noarch::branca-0.7.2-pyhd8ed1ab_0 \n",
      "  cairo              pkgs/main/win-64::cairo-1.16.0-haedb8bc_5 \n",
      "  click-plugins      conda-forge/noarch::click-plugins-1.1.1-py_0 \n",
      "  cligj              conda-forge/noarch::cligj-0.7.2-pyhd8ed1ab_1 \n",
      "  fiona              pkgs/main/win-64::fiona-1.9.5-py312hc7c4135_0 \n",
      "  folium             conda-forge/noarch::folium-0.18.0-pyhd8ed1ab_0 \n",
      "  fontconfig         pkgs/main/win-64::fontconfig-2.14.1-h9c4af85_2 \n",
      "  freexl             pkgs/main/win-64::freexl-2.0.0-hd7a5696_0 \n",
      "  gdal               pkgs/main/win-64::gdal-3.6.2-py312h8827949_4 \n",
      "  geopandas          conda-forge/noarch::geopandas-0.14.4-pyhd8ed1ab_0 \n",
      "  geopandas-base     conda-forge/noarch::geopandas-base-0.14.4-pyha770c72_0 \n",
      "  geos               conda-forge/win-64::geos-3.8.0-he025d50_1 \n",
      "  geotiff            pkgs/main/win-64::geotiff-1.7.0-h4545760_3 \n",
      "  gettext            conda-forge/win-64::gettext-0.19.8.1-ha2e2712_1008 \n",
      "  glib               conda-forge/win-64::glib-2.72.1-h7755175_0 \n",
      "  glib-tools         conda-forge/win-64::glib-tools-2.72.1-h7755175_0 \n",
      "  hdf4               conda-forge/win-64::hdf4-4.2.13-h0e5069d_1005 \n",
      "  kealib             pkgs/main/win-64::kealib-1.5.0-hde4a422_1 \n",
      "  libboost-headers   conda-forge/win-64::libboost-headers-1.82.0-h57928b3_6 \n",
      "  libexpat           conda-forge/win-64::libexpat-2.6.2-h63175ca_0 \n",
      "  libgdal            pkgs/main/win-64::libgdal-3.6.2-h9a21643_4 \n",
      "  libglib            conda-forge/win-64::libglib-2.72.1-h3be07f2_0 \n",
      "  libkml             conda-forge/win-64::libkml-1.3.0-haf3e7a6_1018 \n",
      "  libnetcdf          pkgs/main/win-64::libnetcdf-4.8.1-h6685c40_4 \n",
      "  libspatialite      pkgs/main/win-64::libspatialite-5.1.0-hbdd3232_0 \n",
      "  libsqlite          conda-forge/win-64::libsqlite-3.47.0-h2466b09_1 \n",
      "  libzip             conda-forge/win-64::libzip-1.10.1-h1d365fa_3 \n",
      "  libzlib            conda-forge/win-64::libzlib-1.2.13-h2466b09_6 \n",
      "  mapclassify        conda-forge/noarch::mapclassify-2.8.1-pyhd8ed1ab_0 \n",
      "  minizip            conda-forge/win-64::minizip-4.0.5-h5bed578_0 \n",
      "  pcre               conda-forge/win-64::pcre-8.45-h0e60522_0 \n",
      "  pixman             conda-forge/win-64::pixman-0.43.4-h63175ca_0 \n",
      "  poppler            pkgs/main/win-64::poppler-22.12.0-h0bf3bde_3 \n",
      "  poppler-data       conda-forge/noarch::poppler-data-0.4.12-hd8ed1ab_0 \n",
      "  proj               pkgs/main/win-64::proj-9.3.1-ha107b6e_0 \n",
      "  pyproj             conda-forge/win-64::pyproj-3.6.1-py312hc725b1e_5 \n",
      "  python_abi         conda-forge/win-64::python_abi-3.12-5_cp312 \n",
      "  qhull              conda-forge/win-64::qhull-2020.2-hc790b64_5 \n",
      "  shapely            pkgs/main/win-64::shapely-2.0.5-py312h4059a34_0 \n",
      "  tiledb             pkgs/main/win-64::tiledb-2.3.3-hd8964de_3 \n",
      "  ucrt               conda-forge/win-64::ucrt-10.0.22621.0-h57928b3_1 \n",
      "  uriparser          conda-forge/win-64::uriparser-0.9.8-h5a68840_0 \n",
      "  vc14_runtime       conda-forge/win-64::vc14_runtime-14.42.34433-he29a5d6_23 \n",
      "  xerces-c           conda-forge/win-64::xerces-c-3.2.5-he0c23c2_2 \n",
      "\n",
      "The following packages will be UPDATED:\n",
      "\n",
      "  ca-certificates    pkgs/main::ca-certificates-2024.3.11-~ --> conda-forge::ca-certificates-2024.8.30-h56e8100_0 \n",
      "  certifi            pkgs/main/win-64::certifi-2024.6.2-py~ --> conda-forge/noarch::certifi-2024.8.30-pyhd8ed1ab_0 \n",
      "  conda              pkgs/main::conda-24.5.0-py312haa95532~ --> conda-forge::conda-24.9.2-py312h2e8e312_0 \n",
      "  openssl              pkgs/main::openssl-3.0.14-h827c3e9_0 --> conda-forge::openssl-3.4.0-h2466b09_0 \n",
      "  vs2015_runtime     pkgs/main::vs2015_runtime-14.29.30133~ --> conda-forge::vs2015_runtime-14.42.34433-hdffcdeb_23 \n",
      "  zlib                    pkgs/main::zlib-1.2.13-h8cc25b3_1 --> conda-forge::zlib-1.2.13-h2466b09_6 \n",
      "\n",
      "The following packages will be SUPERSEDED by a higher-priority channel:\n",
      "\n",
      "  python                pkgs/main::python-3.12.4-h14ffc60_1 --> conda-forge::python-3.12.3-h2628c8c_0_cpython \n",
      "\n",
      "\n",
      "\n",
      "Downloading and Extracting Packages: ...working... done\n",
      "Preparing transaction: ...working... done\n",
      "Verifying transaction: ...working... failed\n"
     ]
    },
    {
     "name": "stderr",
     "output_type": "stream",
     "text": [
      "\n",
      "EnvironmentNotWritableError: The current user does not have write permissions to the target environment.\n",
      "  environment location: C:\\ProgramData\\anaconda3\n",
      "\n",
      "\n"
     ]
    }
   ],
   "source": [
    "!conda install -c conda-forge geopandas -y"
   ]
  },
  {
   "cell_type": "code",
   "execution_count": 14,
   "id": "c446fa1d-2747-4407-97a0-ec7e707b3413",
   "metadata": {},
   "outputs": [
    {
     "ename": "ModuleNotFoundError",
     "evalue": "No module named 'geopandas'",
     "output_type": "error",
     "traceback": [
      "\u001b[1;31m---------------------------------------------------------------------------\u001b[0m",
      "\u001b[1;31mModuleNotFoundError\u001b[0m                       Traceback (most recent call last)",
      "Cell \u001b[1;32mIn[14], line 1\u001b[0m\n\u001b[1;32m----> 1\u001b[0m \u001b[38;5;28;01mimport\u001b[39;00m \u001b[38;5;21;01mgeopandas\u001b[39;00m \u001b[38;5;28;01mas\u001b[39;00m \u001b[38;5;21;01mgpd\u001b[39;00m\n\u001b[0;32m      2\u001b[0m \u001b[38;5;28;01mimport\u001b[39;00m \u001b[38;5;21;01mos\u001b[39;00m\n\u001b[0;32m      3\u001b[0m \u001b[38;5;28;01mimport\u001b[39;00m \u001b[38;5;21;01mfiona\u001b[39;00m\n",
      "\u001b[1;31mModuleNotFoundError\u001b[0m: No module named 'geopandas'"
     ]
    }
   ],
   "source": [
    "import geopandas as gpd\n",
    "import os\n",
    "import fiona\n",
    "import matplotlib.pyplot as plt"
   ]
  },
  {
   "cell_type": "code",
   "execution_count": 7,
   "id": "1a4c2508-413f-4ca4-9415-18febbd62564",
   "metadata": {},
   "outputs": [
    {
     "ename": "NameError",
     "evalue": "name 'gpd' is not defined",
     "output_type": "error",
     "traceback": [
      "\u001b[1;31m---------------------------------------------------------------------------\u001b[0m",
      "\u001b[1;31mNameError\u001b[0m                                 Traceback (most recent call last)",
      "Cell \u001b[1;32mIn[7], line 2\u001b[0m\n\u001b[0;32m      1\u001b[0m gpd_path \u001b[38;5;241m=\u001b[39m \u001b[38;5;124mr\u001b[39m\u001b[38;5;124m\"\u001b[39m\u001b[38;5;124mH:\u001b[39m\u001b[38;5;124m\\\u001b[39m\u001b[38;5;124mKwon\u001b[39m\u001b[38;5;124m\\\u001b[39m\u001b[38;5;124mPerry\u001b[39m\u001b[38;5;124m\\\u001b[39m\u001b[38;5;124mData\u001b[39m\u001b[38;5;124m\\\u001b[39m\u001b[38;5;124mgeoportal.gdb\u001b[39m\u001b[38;5;124m\"\u001b[39m\n\u001b[1;32m----> 2\u001b[0m layers \u001b[38;5;241m=\u001b[39m gpd\u001b[38;5;241m.\u001b[39mio\u001b[38;5;241m.\u001b[39mfile\u001b[38;5;241m.\u001b[39mfiona\u001b[38;5;241m.\u001b[39mlistlayers(gpd_path)\n",
      "\u001b[1;31mNameError\u001b[0m: name 'gpd' is not defined"
     ]
    }
   ],
   "source": [
    "gpd_path = r\"H:\\Kwon\\Perry\\Data\\geoportal.gdb\"\n",
    "layers = gpd.io.file.fiona.listlayers(gpd_path)"
   ]
  },
  {
   "cell_type": "code",
   "execution_count": 8,
   "id": "6d786138-6eb5-4c89-b4cd-f60361572c63",
   "metadata": {},
   "outputs": [
    {
     "ename": "NameError",
     "evalue": "name 'layers' is not defined",
     "output_type": "error",
     "traceback": [
      "\u001b[1;31m---------------------------------------------------------------------------\u001b[0m",
      "\u001b[1;31mNameError\u001b[0m                                 Traceback (most recent call last)",
      "Cell \u001b[1;32mIn[8], line 1\u001b[0m\n\u001b[1;32m----> 1\u001b[0m \u001b[38;5;28;01mfor\u001b[39;00m layers \u001b[38;5;129;01min\u001b[39;00m layers:\n\u001b[0;32m      2\u001b[0m     \u001b[38;5;28mprint\u001b[39m(\u001b[38;5;124mf\u001b[39m\u001b[38;5;124m\"\u001b[39m\u001b[38;5;124mLayer name is \u001b[39m\u001b[38;5;132;01m{\u001b[39;00mlayer\u001b[38;5;132;01m}\u001b[39;00m\u001b[38;5;124m\"\u001b[39m)\n\u001b[0;32m      3\u001b[0m     gdf \u001b[38;5;241m=\u001b[39m gpd\u001b[38;5;241m.\u001b[39mread_file(gpd_path, layer \u001b[38;5;241m=\u001b[39m layer)\n",
      "\u001b[1;31mNameError\u001b[0m: name 'layers' is not defined"
     ]
    }
   ],
   "source": [
    "for layers in layers:\n",
    "    print(f\"Layer name is {layer}\")\n",
    "    gdf = gpd.read_file(gpd_path, layer = layer)\n",
    "    print(f\"espg crs is {gdf.crs}\")\n",
    "    print(f\"number of rows is {len(gdf)}\")\n",
    "    print(f\"geometry type is {gdf.geom_type.unique()}\")\n",
    "    print(f\"columns are {list(gdf.colums)}\\n\")\n",
    "    fig, ax = plt.subplots(figsize = (8,6))\n",
    "    gdf.plot(ax = ax)\n",
    "    ax.set_title(f\"Layer: {layer}\")\n",
    "    plt.show()"
   ]
  },
  {
   "cell_type": "code",
   "execution_count": null,
   "id": "604c851e-6f61-49c0-b210-ca3d6c56df0d",
   "metadata": {},
   "outputs": [],
   "source": [
    "def explore_gdb(gdb_path):\n",
    "    layers = gpd.io.file.fiona.listlayers(gpd_path)\n",
    "    for layers in layers:\n",
    "    print(f\"Layer name is {layer}\")\n",
    "    gdf = gpd.read_file(gpd_path, layer = layer)\n",
    "    print(f\"espg crs is {gdf.crs}\")\n",
    "    print(f\"number of rows is {len(gdf)}\")\n",
    "    print(f\"geometry type is {gdf.geom_type.unique()}\")\n",
    "    print(f\"columns are {list(gdf.colums)}\\n\")\n",
    "    fig, ax = plt.subplots(figsize = (8,6))\n",
    "    gdf.plot(ax = ax)\n",
    "    ax.set_title(f\"Layer: {layer}\")\n",
    "    plt.show()"
   ]
  },
  {
   "cell_type": "code",
   "execution_count": null,
   "id": "a1159880-46d7-4235-a9c1-42bb655ab046",
   "metadata": {},
   "outputs": [],
   "source": []
  }
 ],
 "metadata": {
  "kernelspec": {
   "display_name": "Python 3 (ipykernel)",
   "language": "python",
   "name": "python3"
  },
  "language_info": {
   "codemirror_mode": {
    "name": "ipython",
    "version": 3
   },
   "file_extension": ".py",
   "mimetype": "text/x-python",
   "name": "python",
   "nbconvert_exporter": "python",
   "pygments_lexer": "ipython3",
   "version": "3.12.4"
  }
 },
 "nbformat": 4,
 "nbformat_minor": 5
}
